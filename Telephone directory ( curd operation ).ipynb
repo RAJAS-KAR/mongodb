{
 "cells": [
  {
   "cell_type": "markdown",
   "id": "a1d8a075",
   "metadata": {},
   "source": [
    "# Curd Operation Using Telephone_Directory "
   ]
  },
  {
   "cell_type": "code",
   "execution_count": 2,
   "id": "be0b99a7",
   "metadata": {},
   "outputs": [],
   "source": [
    "from pymongo import MongoClient "
   ]
  },
  {
   "cell_type": "code",
   "execution_count": 3,
   "id": "c3784d4a",
   "metadata": {},
   "outputs": [],
   "source": [
    "#connect with local\n",
    "client = MongoClient(\"mongodb://localhost:27017\")"
   ]
  },
  {
   "cell_type": "code",
   "execution_count": 4,
   "id": "41f9d8ff",
   "metadata": {},
   "outputs": [
    {
     "data": {
      "text/plain": [
       "Database(MongoClient(host=['localhost:27017'], document_class=dict, tz_aware=False, connect=True), 'test')"
      ]
     },
     "execution_count": 4,
     "metadata": {},
     "output_type": "execute_result"
    }
   ],
   "source": [
    "#Test the connection\n",
    "client.test"
   ]
  },
  {
   "cell_type": "code",
   "execution_count": 30,
   "id": "ef47fe3d",
   "metadata": {},
   "outputs": [
    {
     "data": {
      "text/plain": [
       "['Telephone_directory',\n",
       " 'Treat',\n",
       " 'admin',\n",
       " 'config',\n",
       " 'cscorner',\n",
       " 'dataanalytics',\n",
       " 'db',\n",
       " 'local',\n",
       " 'monogodb_session',\n",
       " 'orders',\n",
       " 'summa']"
      ]
     },
     "execution_count": 30,
     "metadata": {},
     "output_type": "execute_result"
    }
   ],
   "source": [
    "client.list_database_names()"
   ]
  },
  {
   "cell_type": "code",
   "execution_count": 6,
   "id": "3b8512ab",
   "metadata": {},
   "outputs": [],
   "source": [
    "#create new database\n",
    "db = client[\"Telephone_Directory\"]"
   ]
  },
  {
   "cell_type": "code",
   "execution_count": 29,
   "id": "0b647e25",
   "metadata": {},
   "outputs": [],
   "source": [
    "#create new collectin in db \n",
    "my_colle = db[\"TeleDetails\"]"
   ]
  },
  {
   "cell_type": "markdown",
   "id": "c98be599",
   "metadata": {},
   "source": [
    "# CURD OPERATION (create, update, read, delete)"
   ]
  },
  {
   "cell_type": "code",
   "execution_count": 31,
   "id": "bc301ff5",
   "metadata": {},
   "outputs": [
    {
     "data": {
      "text/plain": [
       "<pymongo.results.InsertOneResult at 0x20d5525f1f0>"
      ]
     },
     "execution_count": 31,
     "metadata": {},
     "output_type": "execute_result"
    }
   ],
   "source": [
    "#curd operation\n",
    "#insert one\n",
    "my_colle.insert_one({'Name': 'Raja', 'Mobile_Num': 7530006574, 'Location': 'Pudukootai', 'DOB': '06/06/1997'})"
   ]
  },
  {
   "cell_type": "code",
   "execution_count": 32,
   "id": "2a19f159",
   "metadata": {},
   "outputs": [],
   "source": [
    "data = [{'Name': 'Aadhi', 'Mobile_Num': 6589564112, 'Location': 'Coimbatore', 'DOB': '26/11/1998'},\n",
    "        {'Name': 'Abinaya', 'Mobile_Num': 5432169875, 'Location': 'Chennai', 'DOB': '19/09/1999'},\n",
    "        {'Name': 'Balaji S', 'Mobile_Num': 7788996655, 'Location': 'Tirupur', 'DOB': '15/12/2000'},\n",
    "        {'Name': 'Bobby', 'Mobile_Num': 9988776655, 'Location': 'Pondicherry', 'DOB': '02/12/199'},\n",
    "        {'Name': 'Barath', 'Mobile_Num': 9876543210, 'Location': 'Chidambaram', 'DOB': '16/08/2002'},\n",
    "        {'Name': 'Chandru', 'Mobile_Num': 9887766559, 'Location': 'Tindivanam', 'DOB': '02/06/2000'},\n",
    "        {'Name': 'Chennu', 'Mobile_Num': 5698712365, 'Location': 'Chengalpattu', 'DOB': '01/01/2001'},\n",
    "        {'Name': 'Gayathri', 'Mobile_Num': 7102365893, 'Location': 'Chidambaram', 'DOB': '03/03/1999'},\n",
    "        {'Name': 'Harish', 'Mobile_Num': 7000000000, 'Location': 'Thenkasi', 'DOB': '07/08/1993'},\n",
    "        {'Name': 'Harini', 'Mobile_Num': 9999911122, 'Location': 'Cuddalore', 'DOB': '10/10/1999'},\n",
    "        {'Name': 'Harish', 'Mobile_Num': 4563217890, 'Location': 'Mayiladuthurai', 'DOB': '16/04/1999'},\n",
    "        {'Name': 'Jagdesh', 'Mobile_Num': 8023156547, 'Location': 'Kumbakonam', 'DOB': '04/04/2000'},\n",
    "        {'Name': 'Janavi', 'Mobile_Num': 6336363663, 'Location': 'Trichy', 'DOB': '01/02/1999'},\n",
    "        {'Name': 'Jai', 'Mobile_Num': 6666666987, 'Location': 'Pudukootai', 'DOB': '06/06/1997'},\n",
    "        {'Name': 'Karan', 'Mobile_Num': 9797979797, 'Location': 'Erode', 'DOB': '07/07/1998'},\n",
    "        {'Name': 'Kaviya', 'Mobile_Num': 7410258911, 'Location': 'Salem', 'DOB': '08/08/1995'}]"
   ]
  },
  {
   "cell_type": "code",
   "execution_count": 33,
   "id": "208debed",
   "metadata": {},
   "outputs": [
    {
     "data": {
      "text/plain": [
       "<pymongo.results.InsertManyResult at 0x20d53e9c640>"
      ]
     },
     "execution_count": 33,
     "metadata": {},
     "output_type": "execute_result"
    }
   ],
   "source": [
    "#insert many\n",
    "my_colle.insert_many(data)"
   ]
  },
  {
   "cell_type": "code",
   "execution_count": 34,
   "id": "da95fa3d",
   "metadata": {},
   "outputs": [
    {
     "data": {
      "text/plain": [
       "{'_id': ObjectId('63943ff7bd9667c46d969bb9'),\n",
       " 'Name': 'Raja',\n",
       " 'Mobile_Num': 7530006574,\n",
       " 'Location': 'Pudukootai',\n",
       " 'DOB': '06/06/1997'}"
      ]
     },
     "execution_count": 34,
     "metadata": {},
     "output_type": "execute_result"
    }
   ],
   "source": [
    "#find\n",
    "my_colle.find_one()"
   ]
  },
  {
   "cell_type": "code",
   "execution_count": 35,
   "id": "186bbe99",
   "metadata": {},
   "outputs": [
    {
     "name": "stdout",
     "output_type": "stream",
     "text": [
      "{'_id': ObjectId('63943ff7bd9667c46d969bb9'), 'Name': 'Raja', 'Mobile_Num': 7530006574, 'Location': 'Pudukootai', 'DOB': '06/06/1997'}\n",
      "{'_id': ObjectId('6394401bbd9667c46d969bba'), 'Name': 'Aadhi', 'Mobile_Num': 6589564112, 'Location': 'Coimbatore', 'DOB': '26/11/1998'}\n",
      "{'_id': ObjectId('6394401bbd9667c46d969bbb'), 'Name': 'Abinaya', 'Mobile_Num': 5432169875, 'Location': 'Chennai', 'DOB': '19/09/1999'}\n",
      "{'_id': ObjectId('6394401bbd9667c46d969bbc'), 'Name': 'Balaji S', 'Mobile_Num': 7788996655, 'Location': 'Tirupur', 'DOB': '15/12/2000'}\n",
      "{'_id': ObjectId('6394401bbd9667c46d969bbd'), 'Name': 'Bobby', 'Mobile_Num': 9988776655, 'Location': 'Pondicherry', 'DOB': '02/12/199'}\n",
      "{'_id': ObjectId('6394401bbd9667c46d969bbe'), 'Name': 'Barath', 'Mobile_Num': 9876543210, 'Location': 'Chidambaram', 'DOB': '16/08/2002'}\n",
      "{'_id': ObjectId('6394401bbd9667c46d969bbf'), 'Name': 'Chandru', 'Mobile_Num': 9887766559, 'Location': 'Tindivanam', 'DOB': '02/06/2000'}\n",
      "{'_id': ObjectId('6394401bbd9667c46d969bc0'), 'Name': 'Chennu', 'Mobile_Num': 5698712365, 'Location': 'Chengalpattu', 'DOB': '01/01/2001'}\n",
      "{'_id': ObjectId('6394401bbd9667c46d969bc1'), 'Name': 'Gayathri', 'Mobile_Num': 7102365893, 'Location': 'Chidambaram', 'DOB': '03/03/1999'}\n",
      "{'_id': ObjectId('6394401bbd9667c46d969bc2'), 'Name': 'Harish', 'Mobile_Num': 7000000000, 'Location': 'Thenkasi', 'DOB': '07/08/1993'}\n",
      "{'_id': ObjectId('6394401bbd9667c46d969bc3'), 'Name': 'Harini', 'Mobile_Num': 9999911122, 'Location': 'Cuddalore', 'DOB': '10/10/1999'}\n",
      "{'_id': ObjectId('6394401bbd9667c46d969bc4'), 'Name': 'Harish', 'Mobile_Num': 4563217890, 'Location': 'Mayiladuthurai', 'DOB': '16/04/1999'}\n",
      "{'_id': ObjectId('6394401bbd9667c46d969bc5'), 'Name': 'Jagdesh', 'Mobile_Num': 8023156547, 'Location': 'Kumbakonam', 'DOB': '04/04/2000'}\n",
      "{'_id': ObjectId('6394401bbd9667c46d969bc6'), 'Name': 'Janavi', 'Mobile_Num': 6336363663, 'Location': 'Trichy', 'DOB': '01/02/1999'}\n",
      "{'_id': ObjectId('6394401bbd9667c46d969bc7'), 'Name': 'Jai', 'Mobile_Num': 6666666987, 'Location': 'Pudukootai', 'DOB': '06/06/1997'}\n",
      "{'_id': ObjectId('6394401bbd9667c46d969bc8'), 'Name': 'Karan', 'Mobile_Num': 9797979797, 'Location': 'Erode', 'DOB': '07/07/1998'}\n",
      "{'_id': ObjectId('6394401bbd9667c46d969bc9'), 'Name': 'Kaviya', 'Mobile_Num': 7410258911, 'Location': 'Salem', 'DOB': '08/08/1995'}\n"
     ]
    }
   ],
   "source": [
    "#find all using loop\n",
    "for i in my_colle.find():\n",
    "    print(i)"
   ]
  },
  {
   "cell_type": "code",
   "execution_count": 36,
   "id": "bba34720",
   "metadata": {},
   "outputs": [
    {
     "name": "stdout",
     "output_type": "stream",
     "text": [
      "{'_id': ObjectId('6394401bbd9667c46d969bbe'), 'Name': 'Barath', 'Mobile_Num': 9876543210, 'Location': 'Chidambaram', 'DOB': '16/08/2002'}\n",
      "{'_id': ObjectId('6394401bbd9667c46d969bc1'), 'Name': 'Gayathri', 'Mobile_Num': 7102365893, 'Location': 'Chidambaram', 'DOB': '03/03/1999'}\n"
     ]
    }
   ],
   "source": [
    "for i in my_colle.find({'Location': 'Chidambaram'}):\n",
    "    print(i)"
   ]
  },
  {
   "cell_type": "code",
   "execution_count": 47,
   "id": "56701248",
   "metadata": {},
   "outputs": [
    {
     "name": "stdout",
     "output_type": "stream",
     "text": [
      "{'Location': 'Thenkasi'}\n",
      "{'Location': 'Mayiladuthurai'}\n"
     ]
    }
   ],
   "source": [
    "for i in my_colle.find({'Name': 'Harish'},{'Location':1, '_id':0}):\n",
    "    print(i)"
   ]
  },
  {
   "cell_type": "code",
   "execution_count": 41,
   "id": "a76f6f19",
   "metadata": {
    "scrolled": true
   },
   "outputs": [
    {
     "data": {
      "text/plain": [
       "<pymongo.results.UpdateResult at 0x20d5409ce80>"
      ]
     },
     "execution_count": 41,
     "metadata": {},
     "output_type": "execute_result"
    }
   ],
   "source": [
    "#update\n",
    "Q ={'Name':'Bobby'}\n",
    "new ={'$set':{'Name':'Bobby','Mobile_Num':9675432190,'Location':'Thanjore','DOB':\"25/11/1998\"}}\n",
    "my_colle.update_one(Q,new)"
   ]
  },
  {
   "cell_type": "code",
   "execution_count": 42,
   "id": "06009985",
   "metadata": {
    "scrolled": true
   },
   "outputs": [
    {
     "name": "stdout",
     "output_type": "stream",
     "text": [
      "{'_id': ObjectId('63943ff7bd9667c46d969bb9'), 'Name': 'Raja', 'Mobile_Num': 7530006574, 'Location': 'Pudukootai', 'DOB': '06/06/1997'}\n",
      "{'_id': ObjectId('6394401bbd9667c46d969bba'), 'Name': 'Aadhi', 'Mobile_Num': 6589564112, 'Location': 'Coimbatore', 'DOB': '26/11/1998'}\n",
      "{'_id': ObjectId('6394401bbd9667c46d969bbb'), 'Name': 'Abinaya', 'Mobile_Num': 5432169875, 'Location': 'Chennai', 'DOB': '19/09/1999'}\n",
      "{'_id': ObjectId('6394401bbd9667c46d969bbc'), 'Name': 'Balaji S', 'Mobile_Num': 7788996655, 'Location': 'Tirupur', 'DOB': '15/12/2000'}\n",
      "{'_id': ObjectId('6394401bbd9667c46d969bbd'), 'Name': 'Bobby', 'Mobile_Num': 9675432190, 'Location': 'Thanjore', 'DOB': '25/11/1998'}\n",
      "{'_id': ObjectId('6394401bbd9667c46d969bbe'), 'Name': 'Barath', 'Mobile_Num': 9876543210, 'Location': 'Chidambaram', 'DOB': '16/08/2002'}\n",
      "{'_id': ObjectId('6394401bbd9667c46d969bbf'), 'Name': 'Chandru', 'Mobile_Num': 9887766559, 'Location': 'Tindivanam', 'DOB': '02/06/2000'}\n",
      "{'_id': ObjectId('6394401bbd9667c46d969bc0'), 'Name': 'Chennu', 'Mobile_Num': 5698712365, 'Location': 'Chengalpattu', 'DOB': '01/01/2001'}\n",
      "{'_id': ObjectId('6394401bbd9667c46d969bc1'), 'Name': 'Gayathri', 'Mobile_Num': 7102365893, 'Location': 'Chidambaram', 'DOB': '03/03/1999'}\n",
      "{'_id': ObjectId('6394401bbd9667c46d969bc2'), 'Name': 'Harish', 'Mobile_Num': 7000000000, 'Location': 'Thenkasi', 'DOB': '07/08/1993'}\n",
      "{'_id': ObjectId('6394401bbd9667c46d969bc3'), 'Name': 'Harini', 'Mobile_Num': 9999911122, 'Location': 'Cuddalore', 'DOB': '10/10/1999'}\n",
      "{'_id': ObjectId('6394401bbd9667c46d969bc4'), 'Name': 'Harish', 'Mobile_Num': 4563217890, 'Location': 'Mayiladuthurai', 'DOB': '16/04/1999'}\n",
      "{'_id': ObjectId('6394401bbd9667c46d969bc5'), 'Name': 'Jagdesh', 'Mobile_Num': 8023156547, 'Location': 'Kumbakonam', 'DOB': '04/04/2000'}\n",
      "{'_id': ObjectId('6394401bbd9667c46d969bc6'), 'Name': 'Janavi', 'Mobile_Num': 6336363663, 'Location': 'Trichy', 'DOB': '01/02/1999'}\n",
      "{'_id': ObjectId('6394401bbd9667c46d969bc7'), 'Name': 'Jai', 'Mobile_Num': 6666666987, 'Location': 'Pudukootai', 'DOB': '06/06/1997'}\n",
      "{'_id': ObjectId('6394401bbd9667c46d969bc8'), 'Name': 'Karan', 'Mobile_Num': 9797979797, 'Location': 'Erode', 'DOB': '07/07/1998'}\n",
      "{'_id': ObjectId('6394401bbd9667c46d969bc9'), 'Name': 'Kaviya', 'Mobile_Num': 7410258911, 'Location': 'Salem', 'DOB': '08/08/1995'}\n"
     ]
    }
   ],
   "source": [
    "for i in my_colle.find():\n",
    "    print(i)"
   ]
  },
  {
   "cell_type": "code",
   "execution_count": 44,
   "id": "2d9acd07",
   "metadata": {},
   "outputs": [
    {
     "data": {
      "text/plain": [
       "<pymongo.results.DeleteResult at 0x20d55184700>"
      ]
     },
     "execution_count": 44,
     "metadata": {},
     "output_type": "execute_result"
    }
   ],
   "source": [
    "#delete\n",
    "my_colle.delete_one({'Name': 'Balaji S'})"
   ]
  },
  {
   "cell_type": "code",
   "execution_count": 45,
   "id": "1ef5d9f3",
   "metadata": {},
   "outputs": [
    {
     "name": "stdout",
     "output_type": "stream",
     "text": [
      "{'_id': ObjectId('63943ff7bd9667c46d969bb9'), 'Name': 'Raja', 'Mobile_Num': 7530006574, 'Location': 'Pudukootai', 'DOB': '06/06/1997'}\n",
      "{'_id': ObjectId('6394401bbd9667c46d969bba'), 'Name': 'Aadhi', 'Mobile_Num': 6589564112, 'Location': 'Coimbatore', 'DOB': '26/11/1998'}\n",
      "{'_id': ObjectId('6394401bbd9667c46d969bbb'), 'Name': 'Abinaya', 'Mobile_Num': 5432169875, 'Location': 'Chennai', 'DOB': '19/09/1999'}\n",
      "{'_id': ObjectId('6394401bbd9667c46d969bbd'), 'Name': 'Bobby', 'Mobile_Num': 9675432190, 'Location': 'Thanjore', 'DOB': '25/11/1998'}\n",
      "{'_id': ObjectId('6394401bbd9667c46d969bbe'), 'Name': 'Barath', 'Mobile_Num': 9876543210, 'Location': 'Chidambaram', 'DOB': '16/08/2002'}\n",
      "{'_id': ObjectId('6394401bbd9667c46d969bbf'), 'Name': 'Chandru', 'Mobile_Num': 9887766559, 'Location': 'Tindivanam', 'DOB': '02/06/2000'}\n",
      "{'_id': ObjectId('6394401bbd9667c46d969bc0'), 'Name': 'Chennu', 'Mobile_Num': 5698712365, 'Location': 'Chengalpattu', 'DOB': '01/01/2001'}\n",
      "{'_id': ObjectId('6394401bbd9667c46d969bc1'), 'Name': 'Gayathri', 'Mobile_Num': 7102365893, 'Location': 'Chidambaram', 'DOB': '03/03/1999'}\n",
      "{'_id': ObjectId('6394401bbd9667c46d969bc2'), 'Name': 'Harish', 'Mobile_Num': 7000000000, 'Location': 'Thenkasi', 'DOB': '07/08/1993'}\n",
      "{'_id': ObjectId('6394401bbd9667c46d969bc3'), 'Name': 'Harini', 'Mobile_Num': 9999911122, 'Location': 'Cuddalore', 'DOB': '10/10/1999'}\n",
      "{'_id': ObjectId('6394401bbd9667c46d969bc4'), 'Name': 'Harish', 'Mobile_Num': 4563217890, 'Location': 'Mayiladuthurai', 'DOB': '16/04/1999'}\n",
      "{'_id': ObjectId('6394401bbd9667c46d969bc5'), 'Name': 'Jagdesh', 'Mobile_Num': 8023156547, 'Location': 'Kumbakonam', 'DOB': '04/04/2000'}\n",
      "{'_id': ObjectId('6394401bbd9667c46d969bc6'), 'Name': 'Janavi', 'Mobile_Num': 6336363663, 'Location': 'Trichy', 'DOB': '01/02/1999'}\n",
      "{'_id': ObjectId('6394401bbd9667c46d969bc7'), 'Name': 'Jai', 'Mobile_Num': 6666666987, 'Location': 'Pudukootai', 'DOB': '06/06/1997'}\n",
      "{'_id': ObjectId('6394401bbd9667c46d969bc8'), 'Name': 'Karan', 'Mobile_Num': 9797979797, 'Location': 'Erode', 'DOB': '07/07/1998'}\n",
      "{'_id': ObjectId('6394401bbd9667c46d969bc9'), 'Name': 'Kaviya', 'Mobile_Num': 7410258911, 'Location': 'Salem', 'DOB': '08/08/1995'}\n"
     ]
    }
   ],
   "source": [
    "for i in my_colle.find():\n",
    "    print(i)"
   ]
  },
  {
   "cell_type": "code",
   "execution_count": null,
   "id": "3af2bdcd",
   "metadata": {},
   "outputs": [],
   "source": []
  },
  {
   "cell_type": "code",
   "execution_count": null,
   "id": "fcd7d24f",
   "metadata": {},
   "outputs": [],
   "source": []
  },
  {
   "cell_type": "code",
   "execution_count": null,
   "id": "0984510a",
   "metadata": {},
   "outputs": [],
   "source": []
  }
 ],
 "metadata": {
  "kernelspec": {
   "display_name": "Python 3 (ipykernel)",
   "language": "python",
   "name": "python3"
  },
  "language_info": {
   "codemirror_mode": {
    "name": "ipython",
    "version": 3
   },
   "file_extension": ".py",
   "mimetype": "text/x-python",
   "name": "python",
   "nbconvert_exporter": "python",
   "pygments_lexer": "ipython3",
   "version": "3.9.13"
  }
 },
 "nbformat": 4,
 "nbformat_minor": 5
}
